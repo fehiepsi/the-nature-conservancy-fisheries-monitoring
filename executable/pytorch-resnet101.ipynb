{
 "cells": [
  {
   "cell_type": "markdown",
   "metadata": {},
   "source": [
    "# Fish classification using ResNet101"
   ]
  },
  {
   "cell_type": "markdown",
   "metadata": {},
   "source": [
    "## Setup"
   ]
  },
  {
   "cell_type": "code",
   "execution_count": 1,
   "metadata": {
    "collapsed": false
   },
   "outputs": [],
   "source": [
    "# import default libraries\n",
    "import os\n",
    "import glob\n",
    "import shutil\n",
    "import time\n",
    "import argparse"
   ]
  },
  {
   "cell_type": "code",
   "execution_count": 2,
   "metadata": {
    "collapsed": true
   },
   "outputs": [],
   "source": [
    "import numpy as np\n",
    "import pandas as pd\n",
    "from PIL import Image"
   ]
  },
  {
   "cell_type": "code",
   "execution_count": 3,
   "metadata": {
    "collapsed": true
   },
   "outputs": [],
   "source": [
    "# import PyTorch modules\n",
    "import torch\n",
    "import torch.nn as nn\n",
    "import torch.optim as optim\n",
    "import torch.nn.functional as F\n",
    "from torch.autograd import Variable\n",
    "from torch.utils.data import DataLoader, Dataset\n",
    "import torchvision.transforms as transforms\n",
    "import torchvision.datasets as datasets\n",
    "import torchvision.models as models\n",
    "from torchnet.meter import AverageValueMeter, ClassErrorMeter"
   ]
  },
  {
   "cell_type": "code",
   "execution_count": null,
   "metadata": {
    "collapsed": true
   },
   "outputs": [],
   "source": [
    "# global parameters\n",
    "args = {\n",
    "    \"arch\": \"resnet101\", # resnet50, resnet101, resnet152\n",
    "    \"pretrained\": True,\n",
    "    \"datadir\": \"../data\",\n",
    "    \"cuda\": True,\n",
    "    \"optim\": \"adam\", # sgd, adam, rmsprop\n",
    "    \"epochs\": 100,\n",
    "    \"batch_size\": 16,\n",
    "    \"lr\": 1e-3,\n",
    "    \"momentum\": 0.9,\n",
    "    \"weight_decay\": 1e-4,\n",
    "    \"seed\": 7,\n",
    "    \"workers\": 4,\n",
    "    \"nb_vals\": 755,\n",
    "    \"nb_augs\": 10\n",
    "}\n",
    "args = argparse.Namespace(**args)"
   ]
  },
  {
   "cell_type": "code",
   "execution_count": 4,
   "metadata": {
    "collapsed": false
   },
   "outputs": [],
   "source": [
    "args.cuda = args.cuda and torch.cuda.is_available()\n",
    "\n",
    "torch.manual_seed(args.seed)\n",
    "if args.cuda:\n",
    "    torch.cuda.manual_seed(args.seed)"
   ]
  },
  {
   "cell_type": "code",
   "execution_count": 5,
   "metadata": {
    "collapsed": false
   },
   "outputs": [],
   "source": [
    "# data folders\n",
    "traindir_full = os.path.join(args.datadir, \"train\")\n",
    "testdir = os.path.join(args.datadir, \"test_stg1\")\n",
    "# intermediate folder\n",
    "intermediate_path = os.path.join(\"..\", \"intermediate\")\n",
    "# train/val/test/submit folders\n",
    "traindir = os.path.join(intermediate_path, \"train\" + str(args.nb_vals))\n",
    "valdir = os.path.join(intermediate_path, \"val\" + str(args.nb_vals))\n",
    "submission_path = os.path.join(intermediate_path, \"submissions\")\n",
    "# best model path\n",
    "model_best_filename = \"model_best_{}vals_{}augs_{}_b{}.pth.tar\".format(\n",
    "    args.nb_vals, args.nb_augs, args.arch, args.batch_size)\n",
    "model_best_filepath = os.path.join(intermediate_path, model_best_filename)\n",
    "# get classes\n",
    "classes = sorted([x.split(\"/\")[-1] for x in glob.glob(traindir_full+\"/*\")])"
   ]
  },
  {
   "cell_type": "code",
   "execution_count": 6,
   "metadata": {
    "collapsed": false
   },
   "outputs": [],
   "source": [
    "# create intermediate folders, copy train data, and split\n",
    "if not os.path.isdir(traindir):\n",
    "    shutil.copytree(traindir_full, traindir)\n",
    "    \n",
    "if not os.path.isdir(valdir):\n",
    "    np.random.seed(args.seed)\n",
    "    g = glob.glob(traindir + \"/*/*.jpg\")\n",
    "    shuf = np.random.permutation(g)\n",
    "    for i in range(args.nb_vals):\n",
    "        os.renames(shuf[i], shuf[i].replace(\"train\", \"val\"))\n",
    "        \n",
    "if not os.path.isdir(submission_path):\n",
    "    os.makedirs(submission_path)"
   ]
  },
  {
   "cell_type": "markdown",
   "metadata": {},
   "source": [
    "## Model"
   ]
  },
  {
   "cell_type": "code",
   "execution_count": 7,
   "metadata": {
    "collapsed": false
   },
   "outputs": [
    {
     "name": "stdout",
     "output_type": "stream",
     "text": [
      "=> Using pre-trained model 'resnet101'\n"
     ]
    }
   ],
   "source": [
    "# create model\n",
    "if args.pretrained:\n",
    "    print(\"=> Using pre-trained model '{}'\".format(args.arch))\n",
    "    model = models.__dict__[args.arch](pretrained=True)\n",
    "else:\n",
    "    print(\"=> Creating model '{}'\".format(args.arch))\n",
    "    model = models.__dict__[args.arch]()\n",
    "for param in model.parameters():\n",
    "    param.requires_grad = False\n",
    "# parameters of newly constructed modules have requires_grad=True by default\n",
    "# replace the last fully-connected layer\n",
    "model.fc = nn.Linear(2048, len(classes))\n",
    "# for 1 GPU, it is unnecessary to use DataParallel\n",
    "#model = torch.nn.DataParallel(model).cuda()\n",
    "if args.cuda:\n",
    "    model.cuda()"
   ]
  },
  {
   "cell_type": "code",
   "execution_count": 8,
   "metadata": {
    "collapsed": true
   },
   "outputs": [],
   "source": [
    "# define loss function\n",
    "criterion = nn.CrossEntropyLoss()\n",
    "if args.cuda:\n",
    "    criterion.cuda()\n",
    "\n",
    "# define optimizer\n",
    "if args.optim == \"sgd\":\n",
    "    optimizer = optim.SGD(model.fc.parameters(),\n",
    "                          lr=args.lr,\n",
    "                          momentum=args.momentum,\n",
    "                          weight_decay=args.weight_decay)\n",
    "elif args.optim == \"adam\":\n",
    "    optimizer = optim.Adam(model.fc.parameters(),\n",
    "                           lr=args.lr,\n",
    "                           weight_decay=args.weight_decay)\n",
    "elif args.optim == \"rmsprop\":\n",
    "    optimizer = optim.RMSprop(model.fc.parameters(),\n",
    "                              lr=args.lr,\n",
    "                              weight_decay=args.weight_decay)"
   ]
  },
  {
   "cell_type": "markdown",
   "metadata": {},
   "source": [
    "### utility functions"
   ]
  },
  {
   "cell_type": "code",
   "execution_count": 9,
   "metadata": {
    "collapsed": true
   },
   "outputs": [],
   "source": [
    "def save_checkpoint(state, is_best, filename=\"checkpoint.pth.tar\"):\n",
    "    checkpoint_filepath = os.path.join(intermediate_path, filename)\n",
    "    torch.save(state, checkpoint_filepath)\n",
    "    if is_best:\n",
    "        shutil.copyfile(checkpoint_filepath, model_best_filepath)\n",
    "\n",
    "def adjust_learning_rate(args, optimizer, epoch):\n",
    "    \"\"\"Sets the learning rate to the initial LR decayed by 10 every 30 epochs\n",
    "    \"\"\"\n",
    "    lr = args.lr * (0.1 ** (epoch // 30))\n",
    "    for param_group in optimizer.param_groups:\n",
    "        param_group[\"lr\"] = lr"
   ]
  },
  {
   "cell_type": "markdown",
   "metadata": {},
   "source": [
    "### train/validate functions"
   ]
  },
  {
   "cell_type": "code",
   "execution_count": 10,
   "metadata": {
    "collapsed": false
   },
   "outputs": [],
   "source": [
    "# train function\n",
    "def train(args, train_loader, model, criterion, optimizer, epoch):\n",
    "    # turn on train mode\n",
    "    model.train()\n",
    "    \n",
    "    losses = AverageValueMeter()\n",
    "    top1 = ClassErrorMeter(accuracy=True) # accuracy instead of error\n",
    "    start = time.time()\n",
    "    \n",
    "    for i, (input, target) in enumerate(train_loader):      \n",
    "        # here we should call cuda() for input;\n",
    "        # in the ImageNet example, the model is parallel by\n",
    "        # torch.nn.DataParallel(model).cuda(), so no need to call cuda() there;\n",
    "        # the option async=True works with pin_memory of DataLoader\n",
    "        # pin_memory slows down DataLoader but fastens data transfer from\n",
    "        # CPU to GPU\n",
    "        if args.cuda:\n",
    "            input = input.cuda()\n",
    "            target = target.cuda()\n",
    "        input_var = Variable(input)\n",
    "        target_var = Variable(target)\n",
    "\n",
    "        # compute output and loss\n",
    "        output = model(input_var)\n",
    "        loss = criterion(output, target_var)\n",
    "\n",
    "        # compute gradient and do backpropagation\n",
    "        optimizer.zero_grad()\n",
    "        loss.backward()\n",
    "        optimizer.step()\n",
    "        \n",
    "        losses.add(loss.data[0] * input.size(0), input.size(0))\n",
    "        top1.add(output.data, target)"
   ]
  },
  {
   "cell_type": "code",
   "execution_count": 11,
   "metadata": {
    "collapsed": true
   },
   "outputs": [],
   "source": [
    "# validate function\n",
    "def validate(args, val_loader, model, criterion):\n",
    "    model.train(False) # turn off train mode\n",
    "    losses = AverageValueMeter()\n",
    "    top1 = ClassErrorMeter(accuracy=True)\n",
    "    start = time.time()\n",
    "    \n",
    "    for i, (input, target) in enumerate(val_loader):\n",
    "        if args.cuda:\n",
    "            input = input.cuda(async=True)\n",
    "            target = target.cuda(async=True)\n",
    "        input_var = Variable(input, volatile=True) # no gradient\n",
    "        target_var = Variable(target, volatile=True)\n",
    "        output = model(input_var)\n",
    "        loss = criterion(output, target_var)\n",
    "        losses.add(loss.data[0] * input.size(0), input.size(0))\n",
    "        top1.add(output.data, target)\n",
    "        \n",
    "    print(\"   * EPOCH {:>2} | Accuracy: {:.3f} | Loss: {:.4f}\"\n",
    "          .format(epoch, top1.value()[0], losses.value()[0]))\n",
    "    return losses.value()[0]"
   ]
  },
  {
   "cell_type": "markdown",
   "metadata": {},
   "source": [
    "### data loaders"
   ]
  },
  {
   "cell_type": "code",
   "execution_count": 12,
   "metadata": {
    "collapsed": false
   },
   "outputs": [],
   "source": [
    "# Data loading code\n",
    "normalize = transforms.Normalize(mean=[0.485, 0.456, 0.406],\n",
    "                                 std=[0.229, 0.224, 0.225])\n",
    "\n",
    "train_loader = DataLoader(\n",
    "    datasets.ImageFolder(traindir,\n",
    "                         transforms.Compose([\n",
    "                             transforms.Scale(400),\n",
    "                             transforms.RandomSizedCrop(224),\n",
    "                             transforms.RandomHorizontalFlip(),\n",
    "                             transforms.ToTensor(),\n",
    "                             normalize])),\n",
    "    batch_size=args.batch_size,\n",
    "    shuffle=True,\n",
    "    num_workers=args.workers,\n",
    ")\n",
    "\n",
    "val_loader = DataLoader(\n",
    "    datasets.ImageFolder(valdir,\n",
    "                         transforms.Compose([\n",
    "                             transforms.Scale(400),\n",
    "                             transforms.RandomSizedCrop(224),\n",
    "                             transforms.ToTensor(),\n",
    "                             normalize])),\n",
    "    batch_size=args.batch_size,\n",
    "    shuffle=False,\n",
    "    num_workers=args.workers,\n",
    ")"
   ]
  },
  {
   "cell_type": "markdown",
   "metadata": {},
   "source": [
    "### training"
   ]
  },
  {
   "cell_type": "code",
   "execution_count": 13,
   "metadata": {
    "collapsed": false,
    "scrolled": false
   },
   "outputs": [
    {
     "name": "stdout",
     "output_type": "stream",
     "text": [
      "=> Starting to train on 'resnet101' model\n",
      "   * EPOCH  1 | Accuracy: 56.444 | Loss: 1.2499\n",
      "   * EPOCH  2 | Accuracy: 59.556 | Loss: 1.0656\n",
      "   * EPOCH  3 | Accuracy: 62.444 | Loss: 1.0943\n",
      "   * EPOCH  4 | Accuracy: 62.222 | Loss: 1.0412\n",
      "   * EPOCH  5 | Accuracy: 65.333 | Loss: 1.0054\n",
      "   * EPOCH  6 | Accuracy: 64.000 | Loss: 0.9856\n",
      "   * EPOCH  7 | Accuracy: 64.667 | Loss: 0.9792\n",
      "   * EPOCH  8 | Accuracy: 60.444 | Loss: 1.0388\n",
      "   * EPOCH  9 | Accuracy: 67.111 | Loss: 0.9276\n",
      "   * EPOCH 10 | Accuracy: 64.000 | Loss: 1.0990\n",
      "   * EPOCH 11 | Accuracy: 69.111 | Loss: 0.9066\n",
      "   * EPOCH 12 | Accuracy: 64.000 | Loss: 0.9636\n",
      "   * EPOCH 13 | Accuracy: 70.222 | Loss: 0.8834\n",
      "   * EPOCH 14 | Accuracy: 71.556 | Loss: 0.8234\n",
      "   * EPOCH 15 | Accuracy: 68.889 | Loss: 0.8686\n",
      "   * EPOCH 16 | Accuracy: 74.222 | Loss: 0.7677\n",
      "   * EPOCH 17 | Accuracy: 70.889 | Loss: 0.8085\n",
      "   * EPOCH 18 | Accuracy: 67.778 | Loss: 0.8267\n",
      "   * EPOCH 19 | Accuracy: 67.556 | Loss: 0.8229\n",
      "   * EPOCH 20 | Accuracy: 72.667 | Loss: 0.7859\n",
      "   * EPOCH 21 | Accuracy: 74.444 | Loss: 0.7864\n",
      "   * EPOCH 22 | Accuracy: 69.778 | Loss: 0.8558\n",
      "   * EPOCH 23 | Accuracy: 72.444 | Loss: 0.8002\n",
      "   * EPOCH 24 | Accuracy: 71.778 | Loss: 0.8043\n",
      "   * EPOCH 25 | Accuracy: 72.000 | Loss: 0.7715\n",
      "   * EPOCH 26 | Accuracy: 73.778 | Loss: 0.7594\n",
      "   * EPOCH 27 | Accuracy: 66.000 | Loss: 0.9544\n",
      "   * EPOCH 28 | Accuracy: 73.333 | Loss: 0.7206\n",
      "   * EPOCH 29 | Accuracy: 69.778 | Loss: 0.8226\n",
      "   * EPOCH 30 | Accuracy: 74.222 | Loss: 0.6986\n",
      "   * EPOCH 31 | Accuracy: 72.889 | Loss: 0.7325\n",
      "   * EPOCH 32 | Accuracy: 74.222 | Loss: 0.7399\n",
      "   * EPOCH 33 | Accuracy: 72.000 | Loss: 0.7522\n",
      "   * EPOCH 34 | Accuracy: 72.222 | Loss: 0.7543\n",
      "   * EPOCH 35 | Accuracy: 72.667 | Loss: 0.7760\n",
      "   * EPOCH 36 | Accuracy: 73.333 | Loss: 0.7383\n",
      "   * EPOCH 37 | Accuracy: 76.444 | Loss: 0.6801\n",
      "   * EPOCH 38 | Accuracy: 74.222 | Loss: 0.7133\n",
      "   * EPOCH 39 | Accuracy: 74.000 | Loss: 0.7051\n",
      "   * EPOCH 40 | Accuracy: 72.667 | Loss: 0.7020\n",
      "   * EPOCH 41 | Accuracy: 71.778 | Loss: 0.7349\n",
      "   * EPOCH 42 | Accuracy: 75.111 | Loss: 0.7307\n",
      "   * EPOCH 43 | Accuracy: 74.889 | Loss: 0.6778\n",
      "   * EPOCH 44 | Accuracy: 75.778 | Loss: 0.7047\n",
      "   * EPOCH 45 | Accuracy: 75.111 | Loss: 0.6845\n",
      "   * EPOCH 46 | Accuracy: 73.111 | Loss: 0.7147\n",
      "   * EPOCH 47 | Accuracy: 78.222 | Loss: 0.6721\n",
      "   * EPOCH 48 | Accuracy: 73.111 | Loss: 0.7189\n",
      "   * EPOCH 49 | Accuracy: 73.556 | Loss: 0.7195\n",
      "   * EPOCH 50 | Accuracy: 75.111 | Loss: 0.7067\n",
      "   * EPOCH 51 | Accuracy: 74.889 | Loss: 0.6911\n",
      "   * EPOCH 52 | Accuracy: 73.333 | Loss: 0.7367\n",
      "   * EPOCH 53 | Accuracy: 76.444 | Loss: 0.6540\n",
      "   * EPOCH 54 | Accuracy: 74.222 | Loss: 0.7122\n",
      "   * EPOCH 55 | Accuracy: 72.222 | Loss: 0.7286\n",
      "   * EPOCH 56 | Accuracy: 75.333 | Loss: 0.7082\n",
      "   * EPOCH 57 | Accuracy: 75.556 | Loss: 0.6954\n",
      "   * EPOCH 58 | Accuracy: 75.778 | Loss: 0.7204\n",
      "   * EPOCH 59 | Accuracy: 77.778 | Loss: 0.6717\n",
      "   * EPOCH 60 | Accuracy: 75.556 | Loss: 0.6667\n",
      "   * EPOCH 61 | Accuracy: 77.111 | Loss: 0.6784\n",
      "   * EPOCH 62 | Accuracy: 75.778 | Loss: 0.6943\n",
      "   * EPOCH 63 | Accuracy: 72.667 | Loss: 0.7416\n",
      "   * EPOCH 64 | Accuracy: 75.556 | Loss: 0.6882\n",
      "   * EPOCH 65 | Accuracy: 76.222 | Loss: 0.6620\n",
      "   * EPOCH 66 | Accuracy: 74.000 | Loss: 0.7056\n",
      "   * EPOCH 67 | Accuracy: 76.889 | Loss: 0.6777\n",
      "   * EPOCH 68 | Accuracy: 76.222 | Loss: 0.6473\n",
      "   * EPOCH 69 | Accuracy: 71.111 | Loss: 0.7530\n",
      "   * EPOCH 70 | Accuracy: 76.667 | Loss: 0.7192\n",
      "   * EPOCH 71 | Accuracy: 76.000 | Loss: 0.6701\n",
      "   * EPOCH 72 | Accuracy: 74.667 | Loss: 0.7374\n",
      "   * EPOCH 73 | Accuracy: 72.444 | Loss: 0.7583\n",
      "   * EPOCH 74 | Accuracy: 75.111 | Loss: 0.7294\n",
      "   * EPOCH 75 | Accuracy: 73.778 | Loss: 0.7506\n",
      "   * EPOCH 76 | Accuracy: 76.222 | Loss: 0.6768\n",
      "   * EPOCH 77 | Accuracy: 74.000 | Loss: 0.6826\n",
      "   * EPOCH 78 | Accuracy: 78.222 | Loss: 0.6453\n",
      "   * EPOCH 79 | Accuracy: 75.556 | Loss: 0.6697\n",
      "   * EPOCH 80 | Accuracy: 72.222 | Loss: 0.7269\n",
      "   * EPOCH 81 | Accuracy: 74.444 | Loss: 0.6820\n",
      "   * EPOCH 82 | Accuracy: 76.222 | Loss: 0.6556\n",
      "   * EPOCH 83 | Accuracy: 75.778 | Loss: 0.6890\n",
      "   * EPOCH 84 | Accuracy: 76.889 | Loss: 0.6747\n",
      "   * EPOCH 85 | Accuracy: 75.111 | Loss: 0.6890\n",
      "   * EPOCH 86 | Accuracy: 73.556 | Loss: 0.6782\n",
      "   * EPOCH 87 | Accuracy: 73.556 | Loss: 0.6921\n",
      "   * EPOCH 88 | Accuracy: 72.667 | Loss: 0.7559\n",
      "   * EPOCH 89 | Accuracy: 74.222 | Loss: 0.7270\n",
      "   * EPOCH 90 | Accuracy: 76.889 | Loss: 0.6956\n",
      "   * EPOCH 91 | Accuracy: 74.222 | Loss: 0.7148\n",
      "   * EPOCH 92 | Accuracy: 77.556 | Loss: 0.6582\n",
      "   * EPOCH 93 | Accuracy: 73.556 | Loss: 0.7265\n",
      "   * EPOCH 94 | Accuracy: 75.556 | Loss: 0.7073\n",
      "   * EPOCH 95 | Accuracy: 77.111 | Loss: 0.6753\n",
      "   * EPOCH 96 | Accuracy: 77.111 | Loss: 0.6633\n",
      "   * EPOCH 97 | Accuracy: 75.111 | Loss: 0.7218\n",
      "   * EPOCH 98 | Accuracy: 77.556 | Loss: 0.6580\n",
      "   * EPOCH 99 | Accuracy: 73.111 | Loss: 0.7274\n",
      "   * EPOCH 100 | Accuracy: 73.111 | Loss: 0.6826\n"
     ]
    }
   ],
   "source": [
    "if 1 == 1:\n",
    "    print(\"=> Starting to train on '{}' model\".format(args.arch))\n",
    "    best_loss = 2\n",
    "    for epoch in range(1, args.epochs+1):\n",
    "        adjust_learning_rate(args, optimizer, epoch)\n",
    "\n",
    "        # train for one epoch\n",
    "        train(args, train_loader, model, criterion, optimizer, epoch)\n",
    "\n",
    "        # evaluate on validation set\n",
    "        loss = validate(args, val_loader, model, criterion)\n",
    "\n",
    "        # remember best loss and save checkpoint\n",
    "        is_best = loss < best_loss\n",
    "        best_loss = min(loss, best_loss)\n",
    "        save_checkpoint({\n",
    "            \"epoch\": epoch,\n",
    "            \"arch\": args.arch,\n",
    "            \"state_dict\": model.state_dict(),\n",
    "            \"best_loss\": best_loss,\n",
    "        }, is_best)"
   ]
  },
  {
   "cell_type": "markdown",
   "metadata": {},
   "source": [
    "## Submit"
   ]
  },
  {
   "cell_type": "code",
   "execution_count": 14,
   "metadata": {
    "collapsed": false
   },
   "outputs": [],
   "source": [
    "class TestImageFolder(Dataset):\n",
    "    def __init__(self, root, transform=None):\n",
    "        images = []\n",
    "        for filepath in sorted(glob.glob(root + \"/*.jpg\")):\n",
    "            images.append(filepath.split(\"/\")[-1])\n",
    "\n",
    "        self.root = root\n",
    "        self.imgs = images\n",
    "        self.transform = transform\n",
    "\n",
    "    def __getitem__(self, index):\n",
    "        filename = self.imgs[index]\n",
    "        img = Image.open(os.path.join(self.root, filename))\n",
    "        if self.transform is not None:\n",
    "            img = self.transform(img)\n",
    "        return img, filename\n",
    "\n",
    "    def __len__(self):\n",
    "        return len(self.imgs)"
   ]
  },
  {
   "cell_type": "code",
   "execution_count": 15,
   "metadata": {
    "collapsed": true
   },
   "outputs": [],
   "source": [
    "test_loader = DataLoader(\n",
    "    TestImageFolder(testdir, \n",
    "                    transforms.Compose([\n",
    "                        transforms.Scale(400),\n",
    "                        transforms.RandomSizedCrop(224),\n",
    "                        transforms.RandomHorizontalFlip(),\n",
    "                        transforms.ToTensor(),\n",
    "                        normalize])),\n",
    "    batch_size=1,\n",
    "    shuffle=False,\n",
    "    num_workers=args.workers,\n",
    ")"
   ]
  },
  {
   "cell_type": "code",
   "execution_count": 16,
   "metadata": {
    "collapsed": true
   },
   "outputs": [],
   "source": [
    "def test(args, test_loader, model):\n",
    "    # placeholder arrays for predictions and id column\n",
    "    preds = np.zeros(shape=(len(test_loader), len(classes)))\n",
    "    id_col = []\n",
    "    \n",
    "    # turn off train mode\n",
    "    model.train(False)\n",
    "    \n",
    "    # average predictions across several different augmentations\n",
    "    for aug in range(args.nb_augs):\n",
    "        print(\"   * Predicting on test augmentation {}\".format(aug + 1))\n",
    "        \n",
    "        # iterate through image data, one file at a time\n",
    "        # (assuming batch size set to 1)\n",
    "        for i, (input, filename) in enumerate(test_loader):\n",
    "            # batch_size = 1\n",
    "            filename = filename[0]\n",
    "                     \n",
    "            if args.cuda:\n",
    "                input = input.cuda()\n",
    "            input_var = Variable(input, volatile=True) # no gradient\n",
    "            output = model(input_var)\n",
    "            softmax = F.softmax(output)[0].data.cpu().numpy()\n",
    "            \n",
    "            # add the scaled class probabilities\n",
    "            preds[i] += softmax\n",
    "            if aug == 0:\n",
    "                id_col.append(filename)\n",
    "       \n",
    "    # convert averaged prediction array to pandas dataframe\n",
    "    preds /= args.nb_augs\n",
    "    pred = pd.DataFrame(preds, columns=[classes])\n",
    "    pred[\"image\"] = id_col\n",
    "    return pred"
   ]
  },
  {
   "cell_type": "code",
   "execution_count": 17,
   "metadata": {
    "collapsed": false
   },
   "outputs": [
    {
     "name": "stdout",
     "output_type": "stream",
     "text": [
      "=> Starting to test on 'resnet101' model\n",
      "=> Loading checkpoint 'model_best_450vals_10augs_resnet101_b16.pth.tar'\n",
      "=> Loaded checkpoint 'model_best_450vals_10augs_resnet101_b16.pth.tar' (epoch 78, loss 0.6453401851654053)\n",
      "   * Predicting on test augmentation 1\n",
      "   * Predicting on test augmentation 2\n",
      "   * Predicting on test augmentation 3\n",
      "   * Predicting on test augmentation 4\n",
      "   * Predicting on test augmentation 5\n",
      "   * Predicting on test augmentation 6\n",
      "   * Predicting on test augmentation 7\n",
      "   * Predicting on test augmentation 8\n",
      "   * Predicting on test augmentation 9\n",
      "   * Predicting on test augmentation 10\n"
     ]
    }
   ],
   "source": [
    "print(\"=> Starting to test on '{}' model\".format(args.arch))\n",
    "if os.path.isfile(model_best_filepath):\n",
    "    print(\"=> Loading checkpoint '{}'\".format(model_best_filename))\n",
    "    checkpoint = torch.load(model_best_filepath)\n",
    "    best_loss = checkpoint[\"best_loss\"]\n",
    "    model.load_state_dict(checkpoint[\"state_dict\"])\n",
    "    print(\"=> Loaded checkpoint '{}' (epoch {}, loss {})\"\n",
    "          .format(model_best_filename, checkpoint[\"epoch\"], best_loss))\n",
    "    pred = test(args, test_loader, model)\n",
    "    # filename for our submission file w/ extra info about this test run\n",
    "    sub_fn = \"{}epoches_{}vals_{}augs_{}_b{}.csv\".format(\n",
    "        checkpoint[\"epoch\"], args.nb_vals, args.nb_augs, args.arch,\n",
    "        args.batch_size)\n",
    "    # write predictions to csv\n",
    "    pred.to_csv(os.path.join(submission_path, sub_fn), index=False)\n",
    "else:\n",
    "    print(\"=> No checkpoint found at '{}'\".format(model_best_filepath))"
   ]
  }
 ],
 "metadata": {
  "kernelspec": {
   "display_name": "Python [conda env:pydata]",
   "language": "python",
   "name": "conda-env-pydata-py"
  },
  "language_info": {
   "codemirror_mode": {
    "name": "ipython",
    "version": 3
   },
   "file_extension": ".py",
   "mimetype": "text/x-python",
   "name": "python",
   "nbconvert_exporter": "python",
   "pygments_lexer": "ipython3",
   "version": "3.5.2"
  }
 },
 "nbformat": 4,
 "nbformat_minor": 2
}
